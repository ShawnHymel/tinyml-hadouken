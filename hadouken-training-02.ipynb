{
 "cells": [
  {
   "cell_type": "markdown",
   "metadata": {},
   "source": [
    "Train a neural network to classify 1-second snippets of audio. Point it to a dataset with the following directory structure:\n",
    "\n",
    " dataset<br/>\n",
    " |-class_1<br/>\n",
    " |---test<br/>\n",
    " |---train<br/>\n",
    " |---validation<br/>\n",
    " |-class_2<br/>\n",
    " |---test<br/>\n",
    " |---train<br/>\n",
    " |---validation<br/>\n",
    " and so on<br/>"
   ]
  },
  {
   "cell_type": "markdown",
   "metadata": {},
   "source": [
    "To install librosa in Anaconda\n",
    "```\n",
    "conda install -c conda-forge ffmpeg\n",
    "conda install -c conda-forge librosa\n",
    "```"
   ]
  },
  {
   "cell_type": "code",
   "execution_count": 1,
   "metadata": {},
   "outputs": [],
   "source": [
    "#!python -m pip install sounddevice\n",
    "#!python -m pip install seaborn\n",
    "#!python -m pip install pandas"
   ]
  },
  {
   "cell_type": "code",
   "execution_count": 2,
   "metadata": {},
   "outputs": [],
   "source": [
    "from os import listdir\n",
    "from os.path import isdir, join\n",
    "import numpy as np\n",
    "import pandas as pd\n",
    "import matplotlib.pyplot as plt\n",
    "import random\n",
    "import sounddevice as sd\n",
    "import tensorflow as tf\n",
    "from tensorflow.keras import layers, models, optimizers, regularizers, backend\n",
    "from sklearn.model_selection import KFold\n",
    "from sklearn.metrics import confusion_matrix\n",
    "import seaborn as sn\n",
    "import math\n",
    "from scipy.io import wavfile\n",
    "from scipy import signal\n",
    "import timeit"
   ]
  },
  {
   "cell_type": "code",
   "execution_count": 3,
   "metadata": {},
   "outputs": [
    {
     "name": "stdout",
     "output_type": "stream",
     "text": [
      "Python 3.7.7\n",
      "Numpy 1.18.5\n",
      "TensorFlow 2.2.0\n",
      "Keras 2.3.0-tf\n"
     ]
    }
   ],
   "source": [
    "# Print versions\n",
    "!python --version\n",
    "print('Numpy ' + np.__version__)\n",
    "print('TensorFlow ' + tf.__version__)\n",
    "print('Keras ' + tf.keras.__version__)"
   ]
  },
  {
   "cell_type": "code",
   "execution_count": 4,
   "metadata": {},
   "outputs": [
    {
     "name": "stdout",
     "output_type": "stream",
     "text": [
      "1 Physical GPUs, 1 Logical GPUs\n"
     ]
    }
   ],
   "source": [
    "# Limit GPU memory growth:\n",
    "# https://github.com/tensorflow/tensorflow/issues/25160\n",
    "gpus = tf.config.experimental.list_physical_devices('GPU')\n",
    "if gpus:\n",
    "    # Restrict TensorFlow to only allocate 1GB * 2 of memory on the first GPU\n",
    "    try:\n",
    "        tf.config.experimental.set_virtual_device_configuration(\n",
    "            gpus[0],\n",
    "            [tf.config.experimental.VirtualDeviceConfiguration(memory_limit=1024 * 2)])\n",
    "        logical_gpus = tf.config.experimental.list_logical_devices('GPU')\n",
    "        print(len(gpus), \"Physical GPUs,\", len(logical_gpus), \"Logical GPUs\")\n",
    "    except RuntimeError as e:\n",
    "        # Virtual devices must be set before GPUs have been initialized\n",
    "        print(e)"
   ]
  },
  {
   "cell_type": "code",
   "execution_count": 40,
   "metadata": {},
   "outputs": [
    {
     "name": "stdout",
     "output_type": "stream",
     "text": [
      "N slices: 20\n",
      "STFT max bin: 257\n"
     ]
    }
   ],
   "source": [
    "# Settings (some of the many hyperparameters)\n",
    "dataset_path = 'C:\\\\Users\\\\sgmustadio\\\\Documents\\\\Python\\\\datasets\\\\hadouken_set'\n",
    "train_dir = 'train'\n",
    "val_dir = 'validation'\n",
    "test_dir = 'test'\n",
    "\n",
    "# Files to save\n",
    "keras_model_name = 'hadouken_model_03'  # Will be given .h5 suffix\n",
    "sample_file_name = 'hadouken_samples_03'   # Will be given .npz suffix\n",
    "\n",
    "# Training hyperparameters\n",
    "num_folds = 10          # Number of k-fold splits (for k-fold training)\n",
    "num_train = 20          # Number of times to recreate and train model to look for best F1 score\n",
    "optimizer = 'adam'      # Optimizer algorithm to use\n",
    "loss_function = 'sparse_categorical_crossentropy'\n",
    "num_epochs = 200\n",
    "batch_size = 100\n",
    "\n",
    "# Sound sampling, filtering, and FFT parameters\n",
    "sample_time = 1.0       # Sec\n",
    "sample_rate = 16000     # Sample rate of samples (Hz)\n",
    "resample_rate = 8000    # Downsample to this rate (Hz)\n",
    "filter_cutoff = 4000    # Remove frequencies above this threshold (Hz)\n",
    "stft_n_fft = 512        # Number of FFT bins (also, number of samples in each slice)\n",
    "stft_n_hop = 400        # Distance between start of each FFT slice (number of samples)\n",
    "                        # Make hop length multiple of sample_rate for faster sounddevice\n",
    "stft_window = 'hanning' # \"The window of choice if you don't have any better ideas\"\n",
    "stft_min_bin = 1        # Lowest bin to use (inclusive; filter out DC)  \n",
    "stft_avg_bins = 8       # Number of bins to average together to reduce FFT size\n",
    "shift_n_bits = 3        # Number of bits to shift 16-bit STFT values to make 8-bit values (before clipping)\n",
    "\n",
    "# Calculated parameters\n",
    "stft_n_slices = int(math.ceil(((sample_time * resample_rate) / stft_n_hop) - (stft_n_fft / stft_n_hop)) + 1)\n",
    "stft_max_bin = int((stft_n_fft / 2) / ((resample_rate / 2) / filter_cutoff)) + 1\n",
    "\n",
    "print('N slices:', stft_n_slices)\n",
    "print('STFT max bin:', stft_max_bin)"
   ]
  },
  {
   "cell_type": "code",
   "execution_count": 41,
   "metadata": {},
   "outputs": [],
   "source": [
    "# Print iterations progress\n",
    "# From: https://stackoverflow.com/questions/3173320/text-progress-bar-in-the-console\n",
    "def printProgressBar (iteration, total, prefix = '', suffix = '', decimals = 1, length = 100, fill = '█', printEnd = \"\\r\"):\n",
    "    \"\"\"\n",
    "    Call in a loop to create terminal progress bar\n",
    "    @params:\n",
    "        iteration   - Required  : current iteration (Int)\n",
    "        total       - Required  : total iterations (Int)\n",
    "        prefix      - Optional  : prefix string (Str)\n",
    "        suffix      - Optional  : suffix string (Str)\n",
    "        decimals    - Optional  : positive number of decimals in percent complete (Int)\n",
    "        length      - Optional  : character length of bar (Int)\n",
    "        fill        - Optional  : bar fill character (Str)\n",
    "        printEnd    - Optional  : end character (e.g. \"\\r\", \"\\r\\n\") (Str)\n",
    "    \"\"\"\n",
    "    percent = (\"{0:.\" + str(decimals) + \"f}\").format(100 * (iteration / float(total)))\n",
    "    filledLength = int(length * iteration // total)\n",
    "    bar = fill * filledLength + '-' * (length - filledLength)\n",
    "    print('\\r%s |%s| %s%% %s' % (prefix, bar, percent, suffix), end = printEnd)\n",
    "    # Print New Line on Complete\n",
    "    if iteration == total: \n",
    "        print()"
   ]
  },
  {
   "cell_type": "code",
   "execution_count": 42,
   "metadata": {},
   "outputs": [
    {
     "name": "stdout",
     "output_type": "stream",
     "text": [
      "['hadouken', 'other', 'silence']\n"
     ]
    }
   ],
   "source": [
    "# Figure out the labels based on folder names\n",
    "labels = listdir(dataset_path)\n",
    "print(labels)"
   ]
  },
  {
   "cell_type": "code",
   "execution_count": 43,
   "metadata": {},
   "outputs": [
    {
     "name": "stdout",
     "output_type": "stream",
     "text": [
      "Number of training samples: 19472\n"
     ]
    }
   ],
   "source": [
    "# Create list of filenames and labels for training set\n",
    "train_paths = []\n",
    "train_labels = []\n",
    "for i, label in enumerate(labels):\n",
    "    for filename in listdir(join(dataset_path, label, train_dir)):\n",
    "        train_paths.append(join(dataset_path, label, train_dir, filename))\n",
    "        train_labels.append(i)\n",
    "print('Number of training samples:', len(train_labels))"
   ]
  },
  {
   "cell_type": "code",
   "execution_count": 44,
   "metadata": {},
   "outputs": [
    {
     "name": "stdout",
     "output_type": "stream",
     "text": [
      "Number of validation samples: 2767\n"
     ]
    }
   ],
   "source": [
    "# Create list of filenames and labels for validation set\n",
    "val_paths = []\n",
    "val_labels = []\n",
    "for i, label in enumerate(labels):\n",
    "    for filename in listdir(join(dataset_path, label, val_dir)):\n",
    "        val_paths.append(join(dataset_path, label, val_dir, filename))\n",
    "        val_labels.append(i)\n",
    "print('Number of validation samples:', len(val_labels))"
   ]
  },
  {
   "cell_type": "code",
   "execution_count": 45,
   "metadata": {},
   "outputs": [
    {
     "name": "stdout",
     "output_type": "stream",
     "text": [
      "Number of test samples: 5568\n"
     ]
    }
   ],
   "source": [
    "# Create list of filenames and labels for test set\n",
    "test_paths = []\n",
    "test_labels = []\n",
    "for i, label in enumerate(labels):\n",
    "    for filename in listdir(join(dataset_path, label, test_dir)):\n",
    "        test_paths.append(join(dataset_path, label, test_dir, filename))\n",
    "        test_labels.append(i)\n",
    "print('Number of test samples:', len(test_labels))"
   ]
  },
  {
   "cell_type": "code",
   "execution_count": 46,
   "metadata": {},
   "outputs": [],
   "source": [
    "# Function Zip, shuffle, unzip sets\n",
    "def shuffle_set(paths, labels):\n",
    "    zipped_set = list(zip(paths, labels))\n",
    "    random.shuffle(zipped_set)\n",
    "    paths, labels = zip(*zipped_set)\n",
    "    return paths, labels"
   ]
  },
  {
   "cell_type": "code",
   "execution_count": 47,
   "metadata": {},
   "outputs": [],
   "source": [
    "# Shuffle sets\n",
    "train_paths, train_labels = shuffle_set(train_paths, train_labels)\n",
    "val_paths, val_labels = shuffle_set(val_paths, val_labels)\n",
    "test_paths, test_labels = shuffle_set(test_paths, test_labels)"
   ]
  },
  {
   "cell_type": "code",
   "execution_count": 132,
   "metadata": {},
   "outputs": [],
   "source": [
    "# Function: resample waveform, create compressed STFT\n",
    "def calc_comp_stft(waveform, fs):\n",
    "    \n",
    "    # Downsample (warning: no decimation filter)\n",
    "    num_samples = int((len(waveform) / fs) * resample_rate)\n",
    "    waveform = signal.resample(waveform, num_samples)\n",
    "    \n",
    "    # Create hanning window and empty STFT buffer\n",
    "    hann_window = np.hanning(stft_n_fft)\n",
    "    stft = np.zeros(((stft_max_bin - stft_min_bin) // stft_avg_bins, stft_n_slices))\n",
    "    for i in range(stft.shape[1]):\n",
    "    \n",
    "        # Get window\n",
    "        win_start = i * stft_n_hop\n",
    "        win_stop = (i * stft_n_hop) + stft_n_fft\n",
    "\n",
    "        # Pad 0s if window isn't long enough\n",
    "        window = waveform[win_start:win_stop]\n",
    "        if len(window) < stft_n_fft:\n",
    "            window = np.append(window, np.zeros((stft_n_fft - len(window),1)))\n",
    "\n",
    "        # Get hanning window and find FFT\n",
    "        window = hann_window * window\n",
    "        fft = np.abs(np.fft.rfft(window, n=stft_n_fft))\n",
    "\n",
    "        # Only keep the frequency bins we care about (i.e. filter out unwanted frequencies)\n",
    "        fft = fft[stft_min_bin:stft_max_bin] # With fs=8kHz, Nyquist is 4kHz\n",
    "\n",
    "        # Adjust for quantization and scaling in 16-bit fixed point FFT\n",
    "        fft = np.around(fft / stft_n_fft)\n",
    "\n",
    "        # Average every <stft_avg_bins bins> together to reduce size of FFT\n",
    "        fft = np.mean(fft.reshape(-1, 8), axis=1)\n",
    "\n",
    "        # Reduce precision by converting to 8-bit unsigned values [0..255]\n",
    "        fft = np.around(fft / (2 ** shift_n_bits))\n",
    "        fft = np.clip(fft, a_min=0, a_max=255)\n",
    "\n",
    "        # Put FFT slide into STFT\n",
    "        stft[:,i] = fft\n",
    "    \n",
    "    return stft"
   ]
  },
  {
   "cell_type": "code",
   "execution_count": 133,
   "metadata": {},
   "outputs": [],
   "source": [
    "# Function: load file, play it, draw waveform, draw spectrogram\n",
    "def analyze_clip(file_path):\n",
    "    \n",
    "    # Load file\n",
    "    fs, waveform = wavfile.read(file_path)\n",
    "    \n",
    "    # Test playing it\n",
    "    sd.play(waveform, fs)\n",
    "    \n",
    "    # Convert floating point wav data (-1.0 to 1.0) to 16-bit PCM\n",
    "    waveform = np.around(waveform * 32767)\n",
    "    \n",
    "    # Draw time domain signal\n",
    "    plt.figure()\n",
    "    plt.plot(waveform)\n",
    "    plt.title('Wave form (time domain)')\n",
    "    \n",
    "    # Calculate STFT\n",
    "    _, _, stft = np.abs(signal.stft(waveform, \n",
    "                                     fs=fs, \n",
    "                                     window='hann', \n",
    "                                     nperseg=stft_n_fft,\n",
    "                                     noverlap=stft_n_fft - stft_n_hop,\n",
    "                                     nfft=stft_n_fft,\n",
    "                                     return_onesided=True,\n",
    "                                     boundary=None,\n",
    "                                     padded=False))\n",
    "\n",
    "    # Plot full spectrogram\n",
    "    plt.figure(figsize=(8, 4))\n",
    "    plt.imshow(stft, cmap='inferno', origin='lower', aspect='auto')\n",
    "    plt.title('Full STFT')\n",
    "    \n",
    "    # Use manual method to create compressed STFT\n",
    "    stft = calc_comp_stft(waveform, fs)\n",
    "    \n",
    "    # Print information about clip\n",
    "    print(file_path)\n",
    "    print('Waveform shape:', waveform.shape)\n",
    "    print('Compressed STFT shape:', stft.shape)\n",
    "    \n",
    "    # Draw spectrogram\n",
    "    plt.figure(figsize=(8, 4))\n",
    "    plt.imshow(stft, cmap='inferno', origin='lower')\n",
    "    plt.title('Compressed STFT')\n",
    "    \n",
    "    return stft"
   ]
  },
  {
   "cell_type": "code",
   "execution_count": 134,
   "metadata": {},
   "outputs": [
    {
     "name": "stdout",
     "output_type": "stream",
     "text": [
      "Label: other\n",
      "C:\\Users\\sgmustadio\\Documents\\Python\\datasets\\hadouken_set\\other\\train\\47056de2.wav\n",
      "Waveform shape: (16000,)\n",
      "Compressed STFT shape: (32, 20)\n"
     ]
    },
    {
     "data": {
      "image/png": "[encoded data removed]",
      "text/plain": [
       "<Figure size 432x288 with 1 Axes>"
      ]
     },
     "metadata": {
      "needs_background": "light"
     },
     "output_type": "display_data"
    },
    {
     "data": {
      "image/png": "[encoded data removed]",
      "text/plain": [
       "<Figure size 576x288 with 1 Axes>"
      ]
     },
     "metadata": {
      "needs_background": "light"
     },
     "output_type": "display_data"
    },
    {
     "data": {
      "image/png": "[encoded data removed]",
      "text/plain": [
       "<Figure size 576x288 with 1 Axes>"
      ]
     },
     "metadata": {
      "needs_background": "light"
     },
     "output_type": "display_data"
    }
   ],
   "source": [
    "# Analyze a clip\n",
    "num_clip = 0\n",
    "print('Label:', labels[train_labels[num_clip]])\n",
    "stft = analyze_clip(train_paths[num_clip])\n",
    "#plt.figure()\n",
    "#plt.plot(stft[:,7])"
   ]
  },
  {
   "cell_type": "code",
   "execution_count": 101,
   "metadata": {},
   "outputs": [],
   "source": [
    "# Function: Read each file, create compressed STFT, keeping only ones of desired length\n",
    "def extract_features(in_files, in_y, print_progress=False):\n",
    "    prob_cnt = 0\n",
    "    out_x = []\n",
    "    out_y = []\n",
    "    \n",
    "    if print_progress:\n",
    "        printProgressBar(0, len(in_files), prefix='Progress:', suffix='Complete', length=50)\n",
    "    \n",
    "    for index, path in enumerate(in_files):\n",
    "        \n",
    "        # Check to make sure we're reading a .wav file\n",
    "        if not path.endswith('.wav'):\n",
    "            continue\n",
    "        \n",
    "        # Load .wav file\n",
    "        fs, waveform = wavfile.read(path)\n",
    "        \n",
    "        # Convert to something that approximates a 16-bit PCM waveform\n",
    "        waveform = np.around(waveform * 32767)\n",
    "        \n",
    "        # Create the features (compressed STFT)\n",
    "        stft = calc_comp_stft(waveform, fs)\n",
    "        \n",
    "        # Only keep STFTs with given length\n",
    "        if stft.shape[1] == stft_n_slices:\n",
    "            out_x.append(stft)\n",
    "            out_y.append(in_y[index])\n",
    "        else:\n",
    "            #print('Dropped:', index, stft_comp.shape)\n",
    "            prob_cnt += 1\n",
    "        \n",
    "        # Update progress bar\n",
    "        if print_progress:\n",
    "            printProgressBar(index + 1, len(in_files), prefix='Extracting:', suffix='Complete', length=50)\n",
    "            \n",
    "    return out_x, out_y, prob_cnt"
   ]
  },
  {
   "cell_type": "code",
   "execution_count": 102,
   "metadata": {},
   "outputs": [
    {
     "name": "stdout",
     "output_type": "stream",
     "text": [
      "Extracting features from training set...\n",
      "Extracting: |██████████████████████████████████████████████████| 100.0% Complete\n",
      "Removed percentage: 0.0\n",
      "Extracting features from validation set...\n",
      "Extracting: |██████████████████████████████████████████████████| 100.0% Complete\n",
      "Removed percentage: 0.0\n",
      "Extracting features from test set...\n",
      "Extracting: |██████████████████████████████████████████████████| 100.0% Complete\n",
      "Removed percentage: 0.0\n"
     ]
    }
   ],
   "source": [
    "# Create training, validation, and test sets\n",
    "print('Extracting features from training set...')\n",
    "x_train, y_train, prob_cnt = extract_features(train_paths, train_labels, True)\n",
    "print('Removed percentage:', prob_cnt / len(train_labels))\n",
    "print('Extracting features from validation set...')\n",
    "x_val, y_val, prob_cnt = extract_features(val_paths, val_labels, True)\n",
    "print('Removed percentage:', prob_cnt / len(train_labels))\n",
    "print('Extracting features from test set...')\n",
    "x_test, y_test, prob_cnt = extract_features(test_paths, test_labels, True)\n",
    "print('Removed percentage:', prob_cnt / len(test_labels))"
   ]
  },
  {
   "cell_type": "code",
   "execution_count": 103,
   "metadata": {},
   "outputs": [],
   "source": [
    "# Convert feature sets to numpy tensors\n",
    "x_train = np.array(x_train)\n",
    "x_val = np.array(x_val)\n",
    "x_test = np.array(x_test)\n",
    "y_train = np.array(y_train)\n",
    "y_val = np.array(y_val)\n",
    "y_test = np.array(y_test)"
   ]
  },
  {
   "cell_type": "code",
   "execution_count": 104,
   "metadata": {},
   "outputs": [
    {
     "data": {
      "image/png": "[encoded data removed]",
      "text/plain": [
       "<Figure size 144x72 with 1 Axes>"
      ]
     },
     "metadata": {
      "needs_background": "light"
     },
     "output_type": "display_data"
    },
    {
     "data": {
      "image/png": "[encoded data removed]",
      "text/plain": [
       "<Figure size 144x72 with 1 Axes>"
      ]
     },
     "metadata": {
      "needs_background": "light"
     },
     "output_type": "display_data"
    },
    {
     "data": {
      "image/png": "[encoded data removed]",
      "text/plain": [
       "<Figure size 144x72 with 1 Axes>"
      ]
     },
     "metadata": {
      "needs_background": "light"
     },
     "output_type": "display_data"
    },
    {
     "data": {
      "image/png": "[encoded data removed]",
      "text/plain": [
       "<Figure size 144x72 with 1 Axes>"
      ]
     },
     "metadata": {
      "needs_background": "light"
     },
     "output_type": "display_data"
    },
    {
     "data": {
      "image/png": "[encoded data removed]",
      "text/plain": [
       "<Figure size 144x72 with 1 Axes>"
      ]
     },
     "metadata": {
      "needs_background": "light"
     },
     "output_type": "display_data"
    }
   ],
   "source": [
    "# Test to make sure the features are correct (and not all the same)\n",
    "for i in range(0,5):\n",
    "    plt.figure(figsize=(2,1))\n",
    "    plt.imshow(x_train[i], cmap='inferno', origin='lower', aspect='auto')"
   ]
  },
  {
   "cell_type": "code",
   "execution_count": 105,
   "metadata": {},
   "outputs": [
    {
     "name": "stdout",
     "output_type": "stream",
     "text": [
      "Training samples:\t (19472, 32, 20)\n",
      "Validation samples:\t (2767, 32, 20)\n",
      "Test samples:\t\t (5568, 32, 20)\n",
      "Training truth set:\t (19472,)\n",
      "Validation samples:\t (2767,)\n",
      "Test truth set:\t\t (5568,)\n"
     ]
    }
   ],
   "source": [
    "# View tensor dimensions\n",
    "print('Training samples:\\t', x_train.shape)\n",
    "print('Validation samples:\\t', x_val.shape)\n",
    "print('Test samples:\\t\\t', x_test.shape)\n",
    "print('Training truth set:\\t', y_train.shape)\n",
    "print('Validation samples:\\t', y_val.shape)\n",
    "print('Test truth set:\\t\\t', y_test.shape)"
   ]
  },
  {
   "cell_type": "code",
   "execution_count": 106,
   "metadata": {},
   "outputs": [
    {
     "name": "stdout",
     "output_type": "stream",
     "text": [
      "(100, 32, 20)\n",
      "[1 1 1 1 0 1 1 1 1 1 1 1 1 0 1 1 1 1 1 1 1 1 1 1 1 1 0 1 1 1 1 1 1 1 1 1 1\n",
      " 1 1 1 1 1 0 0 1 1 1 0 1 1 1 1 1 1 1 1 1 1 1 1 1 1 0 2 1 1 1 1 1 1 0 0 1 1\n",
      " 0 1 1 1 1 1 1 2 0 0 1 1 0 1 1 1 1 1 1 1 1 1 1 1 1 1]\n"
     ]
    }
   ],
   "source": [
    "# Pick out a few samples to save\n",
    "file_samples = train_paths[0:100]\n",
    "x_samples = x_train[0:100]\n",
    "y_samples = y_train[0:100]\n",
    "print(x_samples.shape)\n",
    "print(y_samples)"
   ]
  },
  {
   "cell_type": "code",
   "execution_count": 107,
   "metadata": {},
   "outputs": [],
   "source": [
    "# Save a few samples for testing\n",
    "np.savez(sample_file_name + '.npz', file_samples=file_samples, x_samples=x_samples, y_samples=y_samples)"
   ]
  },
  {
   "cell_type": "code",
   "execution_count": 108,
   "metadata": {},
   "outputs": [
    {
     "name": "stdout",
     "output_type": "stream",
     "text": [
      "(32, 20)\n"
     ]
    }
   ],
   "source": [
    "# Input shape for CNN is size of STFT of 1 sample\n",
    "sample_shape = x_train.shape[1:]\n",
    "print(sample_shape)"
   ]
  },
  {
   "cell_type": "code",
   "execution_count": 109,
   "metadata": {},
   "outputs": [],
   "source": [
    "# Function to get false positive and false negative rates from a confusion matrix\n",
    "def get_fpr_fnr(cm, idx):\n",
    "    fpr = np.sum(np.delete(cm[:, idx], idx)) / np.sum(cm[:, idx])\n",
    "    fnr = np.sum(np.delete(cm[idx, :], idx)) / np.sum(cm[idx, :])\n",
    "    return fpr, fnr"
   ]
  },
  {
   "cell_type": "code",
   "execution_count": 110,
   "metadata": {},
   "outputs": [],
   "source": [
    "def get_f1_score(cm, idx):\n",
    "    precision = cm[(idx, idx)] / np.sum(cm[:, idx])\n",
    "    recall = cm[(idx, idx)] / np.sum(cm[idx, :])\n",
    "    f1_score = 2 * (precision * recall) / (precision + recall)\n",
    "    if math.isnan(f1_score):\n",
    "        return 0.0\n",
    "    return f1_score"
   ]
  },
  {
   "cell_type": "code",
   "execution_count": 119,
   "metadata": {},
   "outputs": [],
   "source": [
    "# Function to build our model\n",
    "def build_model():\n",
    "    \n",
    "    # OG model we started with\n",
    "    model = models.Sequential([\n",
    "        \n",
    "        # Reshape input\n",
    "        layers.InputLayer(input_shape=sample_shape),\n",
    "        layers.Reshape(target_shape=(sample_shape + (1,))),\n",
    "        \n",
    "        # Convolutional layer\n",
    "        layers.Conv2D(filters=30, kernel_size=(5, 5), activation=tf.nn.relu),\n",
    "        layers.Dropout(0.5),\n",
    "        layers.MaxPooling2D(pool_size=(12, 12), padding='same'),\n",
    "        \n",
    "        # Flatten\n",
    "        layers.Flatten(),\n",
    "        \n",
    "        # Classifier\n",
    "        layers.Dense(32, activation='relu'),\n",
    "        layers.Dropout(0.5),\n",
    "        layers.Dense(len(labels), activation=tf.nn.softmax)\n",
    "    ])\n",
    "\n",
    "#     # TinyML Book Model\n",
    "#     model = models.Sequential([\n",
    "#         layers.InputLayer(input_shape=sample_shape),\n",
    "#         layers.Reshape(target_shape=(sample_shape + (1,))),\n",
    "#         layers.Conv2D(filters=8, kernel_size=(10, 8), activation=tf.nn.relu),\n",
    "#         layers.Dropout(0.5),\n",
    "#         layers.Flatten(),\n",
    "#         layers.Dense(len(labels), activation=tf.nn.softmax)\n",
    "#     ])\n",
    "    \n",
    "    # Edge Impulse model\n",
    "#     model = models.Sequential([\n",
    "#         layers.InputLayer(input_shape=sample_shape),\n",
    "#         layers.Reshape(target_shape=(sample_shape[0], sample_shape[1])),\n",
    "#         layers.Conv1D(30, kernel_size=4, activation='relu'),\n",
    "#         layers.MaxPooling1D(pool_size=4, padding='same'),\n",
    "#         layers.Conv1D(10, kernel_size=4, activation='relu'),\n",
    "#         layers.MaxPooling1D(pool_size=4, padding='same'),\n",
    "#         layers.Flatten(),\n",
    "#         layers.Dense(len(labels), activation='softmax')\n",
    "#     ])\n",
    "    \n",
    "    # OG model we started with\n",
    "#     model = models.Sequential([\n",
    "#         layers.InputLayer(input_shape=sample_shape),\n",
    "#         layers.Reshape(target_shape=(sample_shape + (1,))),\n",
    "#         layers.Conv2D(filters=30, kernel_size=(5, 5), activation=tf.nn.relu),\n",
    "#         layers.MaxPooling2D(pool_size=(5, 5), padding='same'),\n",
    "#         layers.Conv2D(filters=10, kernel_size=(5, 5), activation=tf.nn.relu),\n",
    "#         layers.MaxPooling2D(pool_size=(5, 5), padding='same'),\n",
    "#         layers.Flatten(),\n",
    "#         layers.Dense(len(labels), activation=tf.nn.softmax)\n",
    "#     ])\n",
    "    return model"
   ]
  },
  {
   "cell_type": "code",
   "execution_count": 120,
   "metadata": {},
   "outputs": [
    {
     "name": "stdout",
     "output_type": "stream",
     "text": [
      "Model: \"sequential_1\"\n",
      "_________________________________________________________________\n",
      "Layer (type)                 Output Shape              Param #   \n",
      "=================================================================\n",
      "reshape_1 (Reshape)          (None, 32, 20, 1)         0         \n",
      "_________________________________________________________________\n",
      "conv2d_1 (Conv2D)            (None, 28, 16, 30)        780       \n",
      "_________________________________________________________________\n",
      "dropout_2 (Dropout)          (None, 28, 16, 30)        0         \n",
      "_________________________________________________________________\n",
      "max_pooling2d_1 (MaxPooling2 (None, 3, 2, 30)          0         \n",
      "_________________________________________________________________\n",
      "flatten_1 (Flatten)          (None, 180)               0         \n",
      "_________________________________________________________________\n",
      "dense_2 (Dense)              (None, 32)                5792      \n",
      "_________________________________________________________________\n",
      "dropout_3 (Dropout)          (None, 32)                0         \n",
      "_________________________________________________________________\n",
      "dense_3 (Dense)              (None, 3)                 99        \n",
      "=================================================================\n",
      "Total params: 6,671\n",
      "Trainable params: 6,671\n",
      "Non-trainable params: 0\n",
      "_________________________________________________________________\n"
     ]
    }
   ],
   "source": [
    "# Reconstruct the model\n",
    "model = build_model()\n",
    "model.summary()"
   ]
  },
  {
   "cell_type": "code",
   "execution_count": 121,
   "metadata": {},
   "outputs": [
    {
     "name": "stdout",
     "output_type": "stream",
     "text": [
      "Epoch 1/50\n",
      "195/195 [==============================] - 1s 6ms/step - loss: 0.7482 - acc: 0.7912 - val_loss: 0.5061 - val_acc: 0.8352\n",
      "Epoch 2/50\n",
      "195/195 [==============================] - 1s 5ms/step - loss: 0.4773 - acc: 0.8308 - val_loss: 0.4082 - val_acc: 0.8525\n",
      "Epoch 3/50\n",
      "195/195 [==============================] - 1s 5ms/step - loss: 0.4201 - acc: 0.8474 - val_loss: 0.3953 - val_acc: 0.8645\n",
      "Epoch 4/50\n",
      "195/195 [==============================] - 1s 5ms/step - loss: 0.3753 - acc: 0.8631 - val_loss: 0.3603 - val_acc: 0.8648\n",
      "Epoch 5/50\n",
      "195/195 [==============================] - 1s 5ms/step - loss: 0.3580 - acc: 0.8676 - val_loss: 0.3596 - val_acc: 0.8742\n",
      "Epoch 6/50\n",
      "195/195 [==============================] - 1s 5ms/step - loss: 0.3395 - acc: 0.8748 - val_loss: 0.3339 - val_acc: 0.8901\n",
      "Epoch 7/50\n",
      "195/195 [==============================] - 1s 5ms/step - loss: 0.3295 - acc: 0.8780 - val_loss: 0.3413 - val_acc: 0.8858\n",
      "Epoch 8/50\n",
      "195/195 [==============================] - 1s 5ms/step - loss: 0.3169 - acc: 0.8820 - val_loss: 0.3190 - val_acc: 0.8923\n",
      "Epoch 9/50\n",
      "195/195 [==============================] - 1s 5ms/step - loss: 0.3071 - acc: 0.8862 - val_loss: 0.3250 - val_acc: 0.8862\n",
      "Epoch 10/50\n",
      "195/195 [==============================] - 1s 5ms/step - loss: 0.2985 - acc: 0.8925 - val_loss: 0.3286 - val_acc: 0.8941\n",
      "Epoch 11/50\n",
      "195/195 [==============================] - 1s 5ms/step - loss: 0.2955 - acc: 0.8912 - val_loss: 0.3215 - val_acc: 0.8883\n",
      "Epoch 12/50\n",
      "195/195 [==============================] - 1s 5ms/step - loss: 0.2824 - acc: 0.8955 - val_loss: 0.3068 - val_acc: 0.8963\n",
      "Epoch 13/50\n",
      "195/195 [==============================] - 1s 5ms/step - loss: 0.2843 - acc: 0.8931 - val_loss: 0.3174 - val_acc: 0.8934\n",
      "Epoch 14/50\n",
      "195/195 [==============================] - 1s 5ms/step - loss: 0.2845 - acc: 0.8972 - val_loss: 0.3133 - val_acc: 0.8890\n",
      "Epoch 15/50\n",
      "195/195 [==============================] - 1s 5ms/step - loss: 0.2809 - acc: 0.8963 - val_loss: 0.3055 - val_acc: 0.8981\n",
      "Epoch 16/50\n",
      "195/195 [==============================] - 1s 4ms/step - loss: 0.2762 - acc: 0.8974 - val_loss: 0.3109 - val_acc: 0.8930\n",
      "Epoch 17/50\n",
      "195/195 [==============================] - 1s 5ms/step - loss: 0.2772 - acc: 0.8964 - val_loss: 0.3034 - val_acc: 0.8970\n",
      "Epoch 18/50\n",
      "195/195 [==============================] - 1s 5ms/step - loss: 0.2643 - acc: 0.9030 - val_loss: 0.3041 - val_acc: 0.8966\n",
      "Epoch 19/50\n",
      "195/195 [==============================] - 1s 5ms/step - loss: 0.2658 - acc: 0.9022 - val_loss: 0.2966 - val_acc: 0.9010\n",
      "Epoch 20/50\n",
      "195/195 [==============================] - 1s 4ms/step - loss: 0.2592 - acc: 0.9035 - val_loss: 0.3230 - val_acc: 0.8916\n",
      "Epoch 21/50\n",
      "195/195 [==============================] - 1s 4ms/step - loss: 0.2618 - acc: 0.9052 - val_loss: 0.2976 - val_acc: 0.8981\n",
      "Epoch 22/50\n",
      "195/195 [==============================] - 1s 5ms/step - loss: 0.2603 - acc: 0.9032 - val_loss: 0.3151 - val_acc: 0.8934\n",
      "Epoch 23/50\n",
      "195/195 [==============================] - 1s 5ms/step - loss: 0.2564 - acc: 0.9048 - val_loss: 0.3116 - val_acc: 0.8948\n",
      "Epoch 24/50\n",
      "195/195 [==============================] - 1s 5ms/step - loss: 0.2588 - acc: 0.9046 - val_loss: 0.3021 - val_acc: 0.9013\n",
      "Epoch 25/50\n",
      "195/195 [==============================] - 1s 5ms/step - loss: 0.2572 - acc: 0.9045 - val_loss: 0.3172 - val_acc: 0.8934\n",
      "Epoch 26/50\n",
      "195/195 [==============================] - 1s 5ms/step - loss: 0.2535 - acc: 0.9054 - val_loss: 0.3113 - val_acc: 0.8934\n",
      "Epoch 27/50\n",
      "195/195 [==============================] - 1s 5ms/step - loss: 0.2516 - acc: 0.9068 - val_loss: 0.3125 - val_acc: 0.8890\n",
      "Epoch 28/50\n",
      "195/195 [==============================] - 1s 5ms/step - loss: 0.2496 - acc: 0.9069 - val_loss: 0.3382 - val_acc: 0.8865\n",
      "Epoch 29/50\n",
      "195/195 [==============================] - 1s 5ms/step - loss: 0.2527 - acc: 0.9070 - val_loss: 0.2872 - val_acc: 0.9053\n",
      "Epoch 30/50\n",
      "195/195 [==============================] - 1s 5ms/step - loss: 0.2468 - acc: 0.9094 - val_loss: 0.3000 - val_acc: 0.8999\n",
      "Epoch 31/50\n",
      "195/195 [==============================] - 1s 5ms/step - loss: 0.2489 - acc: 0.9102 - val_loss: 0.2957 - val_acc: 0.9050\n",
      "Epoch 32/50\n",
      "195/195 [==============================] - 1s 5ms/step - loss: 0.2457 - acc: 0.9085 - val_loss: 0.3047 - val_acc: 0.8999\n",
      "Epoch 33/50\n",
      "195/195 [==============================] - 1s 5ms/step - loss: 0.2471 - acc: 0.9063 - val_loss: 0.3214 - val_acc: 0.8966\n",
      "Epoch 34/50\n",
      "195/195 [==============================] - 1s 5ms/step - loss: 0.2438 - acc: 0.9100 - val_loss: 0.2884 - val_acc: 0.9075\n",
      "Epoch 35/50\n",
      "195/195 [==============================] - 1s 4ms/step - loss: 0.2426 - acc: 0.9112 - val_loss: 0.2987 - val_acc: 0.9035\n",
      "Epoch 36/50\n",
      "195/195 [==============================] - 1s 5ms/step - loss: 0.2382 - acc: 0.9117 - val_loss: 0.3009 - val_acc: 0.9075\n",
      "Epoch 37/50\n",
      "195/195 [==============================] - 1s 5ms/step - loss: 0.2393 - acc: 0.9105 - val_loss: 0.3087 - val_acc: 0.9017\n",
      "Epoch 38/50\n",
      "195/195 [==============================] - 1s 5ms/step - loss: 0.2405 - acc: 0.9107 - val_loss: 0.2956 - val_acc: 0.9039\n",
      "Epoch 39/50\n",
      "195/195 [==============================] - 1s 5ms/step - loss: 0.2420 - acc: 0.9103 - val_loss: 0.2990 - val_acc: 0.8992\n",
      "Epoch 40/50\n",
      "195/195 [==============================] - 1s 5ms/step - loss: 0.2425 - acc: 0.9096 - val_loss: 0.2823 - val_acc: 0.9129\n",
      "Epoch 41/50\n",
      "195/195 [==============================] - 1s 5ms/step - loss: 0.2369 - acc: 0.9118 - val_loss: 0.2941 - val_acc: 0.9035\n",
      "Epoch 42/50\n",
      "195/195 [==============================] - 1s 5ms/step - loss: 0.2373 - acc: 0.9126 - val_loss: 0.3024 - val_acc: 0.9024\n",
      "Epoch 43/50\n",
      "195/195 [==============================] - 1s 5ms/step - loss: 0.2403 - acc: 0.9106 - val_loss: 0.2844 - val_acc: 0.9068\n",
      "Epoch 44/50\n",
      "195/195 [==============================] - 1s 5ms/step - loss: 0.2364 - acc: 0.9117 - val_loss: 0.2984 - val_acc: 0.8956\n",
      "Epoch 45/50\n",
      "195/195 [==============================] - 1s 5ms/step - loss: 0.2325 - acc: 0.9132 - val_loss: 0.2927 - val_acc: 0.9064\n",
      "Epoch 46/50\n",
      "195/195 [==============================] - 1s 5ms/step - loss: 0.2305 - acc: 0.9146 - val_loss: 0.2896 - val_acc: 0.9068\n",
      "Epoch 47/50\n",
      "195/195 [==============================] - 1s 5ms/step - loss: 0.2313 - acc: 0.9132 - val_loss: 0.2874 - val_acc: 0.9096\n",
      "Epoch 48/50\n",
      "195/195 [==============================] - 1s 4ms/step - loss: 0.2307 - acc: 0.9136 - val_loss: 0.2979 - val_acc: 0.9071\n",
      "Epoch 49/50\n",
      "195/195 [==============================] - 1s 4ms/step - loss: 0.2332 - acc: 0.9142 - val_loss: 0.2958 - val_acc: 0.9075\n",
      "Epoch 50/50\n",
      "195/195 [==============================] - 1s 5ms/step - loss: 0.2308 - acc: 0.9144 - val_loss: 0.2803 - val_acc: 0.9151\n"
     ]
    }
   ],
   "source": [
    "# Ze train!\n",
    "model.compile(optimizer=optimizer,\n",
    "          loss=loss_function,\n",
    "          metrics=['acc'])\n",
    "history = model.fit(x_train,\n",
    "                    y_train, \n",
    "                    epochs=50, #num_epochs, \n",
    "                    batch_size=batch_size,\n",
    "                    verbose=1,\n",
    "                    validation_data=(x_val, y_val))"
   ]
  },
  {
   "cell_type": "code",
   "execution_count": 122,
   "metadata": {},
   "outputs": [
    {
     "data": {
      "image/png": "[encoded data removed]",
      "text/plain": [
       "<Figure size 432x288 with 1 Axes>"
      ]
     },
     "metadata": {
      "needs_background": "light"
     },
     "output_type": "display_data"
    },
    {
     "data": {
      "image/png": "[encoded data removed]",
      "text/plain": [
       "<Figure size 432x288 with 1 Axes>"
      ]
     },
     "metadata": {
      "needs_background": "light"
     },
     "output_type": "display_data"
    }
   ],
   "source": [
    "# Plot results\n",
    "acc = history.history['acc']\n",
    "val_acc = history.history['val_acc']\n",
    "loss = history.history['loss']\n",
    "val_loss = history.history['val_loss']\n",
    "\n",
    "epochs = range(1, len(acc) + 1)\n",
    "\n",
    "plt.plot(epochs, acc, 'bo', label='Training acc')\n",
    "plt.plot(epochs, val_acc, 'b', label='Validation acc')\n",
    "plt.title('Training and validation accuracy')\n",
    "plt.legend()\n",
    "\n",
    "plt.figure()\n",
    "\n",
    "plt.plot(epochs, loss, 'bo', label='Training loss')\n",
    "plt.plot(epochs, val_loss, 'b', label='Validation loss')\n",
    "plt.title('Training and validation loss')\n",
    "plt.legend()\n",
    "\n",
    "plt.show()"
   ]
  },
  {
   "cell_type": "code",
   "execution_count": 123,
   "metadata": {},
   "outputs": [
    {
     "name": "stdout",
     "output_type": "stream",
     "text": [
      "Validation set accuracy: 0.9150704734369353\n"
     ]
    }
   ],
   "source": [
    "# Evaluate model on validation set\n",
    "predictions = model.predict(x_val)\n",
    "y_hat = [np.argmax(prediction) for prediction in predictions]\n",
    "correct_list = (np.array(y_hat) == val_labels) * 1\n",
    "print('Validation set accuracy:', np.sum(correct_list) / len(correct_list))"
   ]
  },
  {
   "cell_type": "code",
   "execution_count": 124,
   "metadata": {},
   "outputs": [
    {
     "name": "stdout",
     "output_type": "stream",
     "text": [
      "[[ 233   91    0]\n",
      " [  21 2241    6]\n",
      " [   0  117   58]]\n"
     ]
    }
   ],
   "source": [
    "# Make confusion matrix\n",
    "cm = confusion_matrix(val_labels, y_hat)\n",
    "print(cm)"
   ]
  },
  {
   "cell_type": "code",
   "execution_count": 125,
   "metadata": {},
   "outputs": [
    {
     "data": {
      "text/plain": [
       "Text(33.0, 0.5, 'Actual')"
      ]
     },
     "execution_count": 125,
     "metadata": {},
     "output_type": "execute_result"
    },
    {
     "data": {
      "image/png": "[encoded data removed]",
      "text/plain": [
       "<Figure size 432x288 with 2 Axes>"
      ]
     },
     "metadata": {
      "needs_background": "light"
     },
     "output_type": "display_data"
    }
   ],
   "source": [
    "# Make confusion matrix pretty\n",
    "df_cm = pd.DataFrame(cm, index=labels, columns=labels)\n",
    "plt.figure()\n",
    "sn.heatmap(df_cm, annot=True)\n",
    "plt.title('Validation Set Confusion Matrix')\n",
    "plt.xlabel('Prediction')\n",
    "plt.ylabel('Actual')"
   ]
  },
  {
   "cell_type": "code",
   "execution_count": 126,
   "metadata": {},
   "outputs": [
    {
     "name": "stdout",
     "output_type": "stream",
     "text": [
      "Target word: hadouken\n",
      "False positive rate: 0.08267716535433071\n",
      "False negative rate: 0.2808641975308642\n",
      "F1 Score: 0.8062283737024222\n"
     ]
    }
   ],
   "source": [
    "# Show accuracy of target word\n",
    "target_idx = 0\n",
    "fpr, fnr = get_fpr_fnr(cm, target_idx)\n",
    "\n",
    "print('Target word:', labels[target_idx])\n",
    "print('False positive rate:', fpr)\n",
    "print('False negative rate:', fnr)\n",
    "print('F1 Score:', get_f1_score(cm, target_idx))"
   ]
  },
  {
   "cell_type": "code",
   "execution_count": null,
   "metadata": {},
   "outputs": [],
   "source": [
    "# For realz training: do it multiple times and save the one with the lowest validation FP/FN combination\n",
    "best_model = None\n",
    "best_f1_score = 1.0\n",
    "target_idx = 0\n",
    "print('Target word:', labels[target_idx])\n",
    "\n",
    "# Try taining a bunch of models and keeping the best one\n",
    "for i in range(num_train):\n",
    "    \n",
    "    # Keep track of which loop we're on\n",
    "    print('Starting training loop', i)\n",
    "    print('')\n",
    "    \n",
    "    # Create model (need to do this every time to re-initialize random weights)\n",
    "    model = build_model()\n",
    "    \n",
    "    # Ze train!\n",
    "    model.compile(optimizer=optimizer,\n",
    "              loss=loss_function,\n",
    "              metrics=['acc'])\n",
    "    history = model.fit(x_train,\n",
    "                        y_train, \n",
    "                        epochs=num_epochs, \n",
    "                        batch_size=batch_size,\n",
    "                        verbose=0,\n",
    "                        validation_data=(x_val, y_val))\n",
    "    \n",
    "    # Evaluate model on validation set\n",
    "    predictions = model.predict(x_val)\n",
    "    y_hat = [np.argmax(prediction) for prediction in predictions]\n",
    "    correct_list = (np.array(y_hat) == val_labels) * 1\n",
    "    \n",
    "    # Make confusion matrix\n",
    "    cm = confusion_matrix(val_labels, y_hat)\n",
    "    \n",
    "    # Get FP/FN of target word\n",
    "    fpr, fnr = get_fpr_fnr(cm, target_idx)\n",
    "    \n",
    "    # This seems a bit hackerish: average FPR and FNR to get one number\n",
    "    f1_score = get_f1_score(cm, target_idx)\n",
    "    \n",
    "    # Print out metrics\n",
    "    print('')\n",
    "    print(cm)\n",
    "    print('False positive rate:', fpr)\n",
    "    print('False negative rate:', fnr)\n",
    "    print('F1 score:', f1_score)\n",
    "    print('')\n",
    "    print('------------------------------------------------------------------------')\n",
    "    \n",
    "    # Compare to best score and save model of best score\n",
    "    if f1_score > best_f1_score:\n",
    "        best_f1_score = f1_score\n",
    "        best_model = model\n",
    "        \n",
    "print('')\n",
    "print('Done!')\n",
    "print('Best score:', best_f1_score)"
   ]
  },
  {
   "cell_type": "code",
   "execution_count": 127,
   "metadata": {},
   "outputs": [
    {
     "name": "stdout",
     "output_type": "stream",
     "text": [
      "Test set accuracy: 0.8900862068965517\n"
     ]
    }
   ],
   "source": [
    "# Evaluate model on test set\n",
    "predictions = model.predict(x_test)\n",
    "y_hat = [np.argmax(prediction) for prediction in predictions]\n",
    "correct_list = (np.array(y_hat) == test_labels) * 1\n",
    "print('Test set accuracy:', np.sum(correct_list) / len(correct_list))"
   ]
  },
  {
   "cell_type": "code",
   "execution_count": 128,
   "metadata": {},
   "outputs": [
    {
     "name": "stdout",
     "output_type": "stream",
     "text": [
      "[[ 411  272    0]\n",
      " [  89 4427   19]\n",
      " [   0  232  118]]\n"
     ]
    }
   ],
   "source": [
    "# Make confusion matrix\n",
    "cm = confusion_matrix(test_labels, y_hat)\n",
    "print(cm)"
   ]
  },
  {
   "cell_type": "code",
   "execution_count": 129,
   "metadata": {},
   "outputs": [
    {
     "data": {
      "text/plain": [
       "Text(33.0, 0.5, 'Actual')"
      ]
     },
     "execution_count": 129,
     "metadata": {},
     "output_type": "execute_result"
    },
    {
     "data": {
      "image/png": "[encoded data removed]",
      "text/plain": [
       "<Figure size 432x288 with 2 Axes>"
      ]
     },
     "metadata": {
      "needs_background": "light"
     },
     "output_type": "display_data"
    }
   ],
   "source": [
    "# Make confusion matrix pretty\n",
    "df_cm = pd.DataFrame(cm, index=labels, columns=labels)\n",
    "plt.figure()\n",
    "sn.heatmap(df_cm, annot=True)\n",
    "plt.title('Test Set Confusion Matrix')\n",
    "plt.xlabel('Prediction')\n",
    "plt.ylabel('Actual')"
   ]
  },
  {
   "cell_type": "code",
   "execution_count": 130,
   "metadata": {},
   "outputs": [
    {
     "name": "stdout",
     "output_type": "stream",
     "text": [
      "Target word: hadouken\n",
      "False positive rate: 0.178\n",
      "False negative rate: 0.39824304538799415\n",
      "Score: 0.694843617920541\n"
     ]
    }
   ],
   "source": [
    "# Show accuracy of target word\n",
    "target_idx = 0\n",
    "fpr = np.sum(np.delete(cm[:, 0], target_idx)) / np.sum(cm[:, 0])\n",
    "fnr = np.sum(np.delete(cm[0, :], target_idx)) / np.sum(cm[0, :])\n",
    "\n",
    "print('Target word:', labels[target_idx])\n",
    "print('False positive rate:', fpr)\n",
    "print('False negative rate:', fnr)\n",
    "print('Score:', get_f1_score(cm, target_idx))"
   ]
  },
  {
   "cell_type": "code",
   "execution_count": 131,
   "metadata": {},
   "outputs": [],
   "source": [
    "# If we're happy with the performance, save the model\n",
    "model.save(keras_model_name + '.h5')"
   ]
  },
  {
   "cell_type": "code",
   "execution_count": null,
   "metadata": {},
   "outputs": [],
   "source": []
  },
  {
   "cell_type": "code",
   "execution_count": null,
   "metadata": {},
   "outputs": [],
   "source": []
  },
  {
   "cell_type": "code",
   "execution_count": null,
   "metadata": {},
   "outputs": [],
   "source": []
  }
 ],
 "metadata": {
  "kernelspec": {
   "display_name": "Python 3",
   "language": "python",
   "name": "python3"
  },
  "language_info": {
   "codemirror_mode": {
    "name": "ipython",
    "version": 3
   },
   "file_extension": ".py",
   "mimetype": "text/x-python",
   "name": "python",
   "nbconvert_exporter": "python",
   "pygments_lexer": "ipython3",
   "version": "3.7.7"
  }
 },
 "nbformat": 4,
 "nbformat_minor": 4
}
